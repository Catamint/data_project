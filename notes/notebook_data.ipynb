{
 "cells": [
  {
   "cell_type": "markdown",
   "metadata": {},
   "source": [
    "### 关于字段表\n",
    "\n",
    "此表的构造可以理解为: 当领取了优惠券或消费时均作记录. 即:\n",
    "\n",
    "- 领券时: 记录User_id, Coupon_id, Discount_rate, Date_received, 缺失值填null.\n",
    "- 消费时: 根据Coupon_id找到对应项, 补全Merchant_id, Distance, Date; 若没用券则新建项, 记录User_id, 缺失值填null.\n",
    "\n",
    "由此: \n",
    "\n",
    "- 当Merchant_id == null时, Distance, Date无意义;\n",
    "- 当Merchant_id != null时, Distance可能缺失, Date不会缺失;\n",
    "- 当Coupon_id == null时, Discount_rate, Date_received无意义.\n",
    "- 当Coupon_id != null时, Discount_rate, Date_received不会缺失.\n",
    "\n",
    "实际上:\n",
    "\n",
    "- Merchant_id不会缺失?? 即:优惠券和商户是绑定的, 用户领取了此商户的优惠券即记录Merchant_id?(这样用户总领券数就没意义了?!\n",
    "- Coupon_id, Discount_rate, Date_receive三者同时缺失或不缺失."
   ]
  },
  {
   "cell_type": "code",
   "execution_count": 2,
   "metadata": {},
   "outputs": [
    {
     "name": "stdout",
     "output_type": "stream",
     "text": [
      "User_id          1754884\n",
      "Merchant_id      1754884\n",
      "Coupon_id        1053282\n",
      "Discount_rate    1053282\n",
      "Distance         1648881\n",
      "Date_received    1053282\n",
      "Date              776984\n",
      "dtype: int64\n"
     ]
    }
   ],
   "source": [
    "import pandas as pd\n",
    "import numpy as np\n",
    "off_train = pd.read_csv(\"e:\\OneDrive - stu.cqupt.edu.cn\\#codes\\data_project\\#test\\data\\ccf_offline_stage1_train.csv\")\n",
    "\n",
    "print(off_train.count())\n",
    "\n"
   ]
  }
 ],
 "metadata": {
  "kernelspec": {
   "display_name": "Python 3.9.12 ('base')",
   "language": "python",
   "name": "python3"
  },
  "language_info": {
   "codemirror_mode": {
    "name": "ipython",
    "version": 3
   },
   "file_extension": ".py",
   "mimetype": "text/x-python",
   "name": "python",
   "nbconvert_exporter": "python",
   "pygments_lexer": "ipython3",
   "version": "3.9.12"
  },
  "orig_nbformat": 4,
  "vscode": {
   "interpreter": {
    "hash": "84ec527f64500599947ef7549b537c8e602199a54bc9a7eea7e5d8b6765d8df4"
   }
  }
 },
 "nbformat": 4,
 "nbformat_minor": 2
}
