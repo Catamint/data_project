{
 "cells": [
  {
   "cell_type": "code",
   "execution_count": 2,
   "metadata": {},
   "outputs": [],
   "source": [
    "import pandas as pd\n",
    "import numpy as np\n",
    "off_train = pd.read_csv(\"e:\\OneDrive - stu.cqupt.edu.cn\\#codes\\data_project\\#test\\data\\ccf_offline_stage1_train.csv\")"
   ]
  },
  {
   "cell_type": "markdown",
   "metadata": {},
   "source": [
    "#### 关于各种缺失值"
   ]
  },
  {
   "cell_type": "code",
   "execution_count": null,
   "metadata": {},
   "outputs": [],
   "source": [
    "\n",
    "a=pd.Series([True,False,None,pd.NA,pd.NaT])\n",
    "print(a)\n",
    "print(a.isnull())\n",
    "\n",
    "a=pd.Series([1,2,3,np.nan])\n",
    "a=a.map(lambda x: int(x) if x==x else pd.NA)\n",
    "print(a)\n",
    "b=pd.Series([1,2,3,pd.NA])\n",
    "print(b)\n",
    "print(a.equals(b))\n",
    "\n",
    "# list.isin() | .notin()\n",
    "c=b.isin([1,6,2,5])\n",
    "print(b[1],'\\n')\n",
    "\n",
    "# 数组作下标时return数组\n",
    "print(b[c])"
   ]
  },
  {
   "cell_type": "code",
   "execution_count": null,
   "metadata": {},
   "outputs": [],
   "source": [
    "b=pd.DataFrame({\"c1\":[1,1,None,3],\"c2\":[4,4,None,6]})\n",
    "b[\"c1\"].map(int)\n",
    "# b=b.drop([2])\n",
    "# b[\"c1\"]=b[\"c1\"].map(lambda x: int(x) if x==x else x)\n",
    "# b\n",
    "# b.value_counts() # 统计(并sort)重复出现值的数量\n",
    "# b.count() # return a series: lenth of each column (排除NaN)\n",
    "# len(b)  # return an int: lenth of lines\n",
    "# b.isnull().sum()/len(b)\n",
    "\n",
    "# # 本质是Series可以与数四则运算\n",
    "# pd.Series([1,2,3])/2"
   ]
  },
  {
   "cell_type": "markdown",
   "metadata": {},
   "source": [
    "#### map 同时迭代两个容器"
   ]
  },
  {
   "cell_type": "code",
   "execution_count": null,
   "metadata": {},
   "outputs": [],
   "source": [
    "abs=map(lambda x,y: y-x if y==y and x==x else -1, \n",
    "                off_train[\"Date_received\"], off_train[\"Date\"])\n",
    "print(list(abs))"
   ]
  },
  {
   "cell_type": "markdown",
   "metadata": {},
   "source": [
    "#### to_datetime\n",
    "\n",
    "    args:   arg=[date1, date2, ...], (datei可以是str,int,float,...)\n",
    "            format=\"%Y%m%d\" (4位Y大写,格式与arg[i]相同)\n",
    "    return: Series=[datetime1, ...]"
   ]
  },
  {
   "cell_type": "code",
   "execution_count": null,
   "metadata": {},
   "outputs": [],
   "source": [
    "print(pd.to_datetime(\"20201010\",format=\"%d%Y%m\"))\n",
    "print(pd.to_datetime(arg=\"20201010\",format=\"%Y%m%d\"))\n",
    "print(pd.to_datetime(20201010.0,format=\"%d%Y%m\"))"
   ]
  },
  {
   "cell_type": "markdown",
   "metadata": {},
   "source": [
    "pd.merge"
   ]
  },
  {
   "cell_type": "code",
   "execution_count": 3,
   "metadata": {},
   "outputs": [
    {
     "name": "stdout",
     "output_type": "stream",
     "text": [
      "   c1  c2\n",
      "0   1   4\n",
      "1   1   3\n",
      "2   2   3\n",
      "3   4   5\n",
      "4   3   6\n",
      "   c1  c3\n",
      "0   3   1\n",
      "1   1   2\n",
      "2   2   3\n",
      "   c1  c2   c3\n",
      "0   1   4  2.0\n",
      "1   1   3  2.0\n",
      "2   2   3  3.0\n",
      "3   4   5  NaN\n",
      "4   3   6  1.0\n",
      "   c1  c2  c3\n",
      "0   3   6   1\n",
      "1   1   4   2\n",
      "2   1   3   2\n",
      "3   2   3   3\n"
     ]
    }
   ],
   "source": [
    "import pandas as pd\n",
    "a=pd.DataFrame({\"c1\": [1,1,2,4,3],\"c2\": [4,3,3,5,6]})\n",
    "b=pd.DataFrame({\"c1\": [3,1,2],\"c3\": [1,2,3]})\n",
    "print(a)\n",
    "print(b)\n",
    "print(pd.merge(a,b,on='c1',how='left'))\n",
    "print(pd.merge(a,b,on='c1',how='right'))\n"
   ]
  },
  {
   "cell_type": "code",
   "execution_count": null,
   "metadata": {},
   "outputs": [
    {
     "ename": "",
     "evalue": "",
     "output_type": "error",
     "traceback": [
      "\u001b[1;31mRunning cells with 'Python 3.10.4 64-bit' requires ipykernel package.\n",
      "\u001b[1;31mRun the following command to install 'ipykernel' into the Python environment. \n",
      "\u001b[1;31mCommand: 'c:/Python310/python.exe -m pip install ipykernel -U --user --force-reinstall'"
     ]
    }
   ],
   "source": [
    "import pandas as pd\n",
    "a=pd.DataFrame({\"c1\": [1,1,2,4,3],\"c2\": [4,3,3,5,6]})\n",
    "c=pd.DataFrame(a.copy())\n",
    "c.insert(0,'c6',a['c1']-a['c2'])\n",
    "b=pd.pivot_table(c,values='c6',columns='c1')\n",
    "# print(a)\n",
    "print(c)\n",
    "print(b)"
   ]
  },
  {
   "cell_type": "markdown",
   "metadata": {},
   "source": [
    "- pd.NaT与数无法运算但np.nan可\n",
    "\n",
    "- NaT.total_seconds()=nan"
   ]
  },
  {
   "cell_type": "code",
   "execution_count": 33,
   "metadata": {},
   "outputs": [
    {
     "name": "stdout",
     "output_type": "stream",
     "text": [
      "       0\n",
      "0  False\n",
      "nan\n"
     ]
    }
   ],
   "source": [
    "import pandas as pd\n",
    "a=pd.DataFrame({\"c1\": [pd.NaT],\"c2\": [pd.to_datetime(20211212)]})\n",
    "c=pd.DataFrame({\"c1\": [1,1,2,0,3],\"c2\": [4,3,3,5,6]})\n",
    "d=pd.DataFrame(map(lambda x,y: True if (x-y).total_seconds()>0 else False,a['c1'],a['c2']))\n",
    "print(d)\n",
    "print((pd.NaT-pd.to_datetime(20211212)).total_seconds())"
   ]
  },
  {
   "cell_type": "code",
   "execution_count": 35,
   "metadata": {},
   "outputs": [
    {
     "ename": "ValueError",
     "evalue": "cannot convert float NaN to integer",
     "output_type": "error",
     "traceback": [
      "\u001b[1;31m---------------------------------------------------------------------------\u001b[0m",
      "\u001b[1;31mValueError\u001b[0m                                Traceback (most recent call last)",
      "\u001b[1;32me:\\OneDrive - stu.cqupt.edu.cn\\#codes\\data_project\\work\\notebook_writing.ipynb Cell 14\u001b[0m in \u001b[0;36m<cell line: 4>\u001b[1;34m()\u001b[0m\n\u001b[0;32m      <a href='vscode-notebook-cell:/e%3A/OneDrive%20-%20stu.cqupt.edu.cn/%23codes/data_project/work/notebook_writing.ipynb#X22sZmlsZQ%3D%3D?line=1'>2</a>\u001b[0m a\u001b[39m=\u001b[39mpd\u001b[39m.\u001b[39mDataFrame({\u001b[39m\"\u001b[39m\u001b[39mc1\u001b[39m\u001b[39m\"\u001b[39m: [pd\u001b[39m.\u001b[39mNaT],\u001b[39m\"\u001b[39m\u001b[39mc2\u001b[39m\u001b[39m\"\u001b[39m: [pd\u001b[39m.\u001b[39mto_datetime(\u001b[39m20211212\u001b[39m)]})\n\u001b[0;32m      <a href='vscode-notebook-cell:/e%3A/OneDrive%20-%20stu.cqupt.edu.cn/%23codes/data_project/work/notebook_writing.ipynb#X22sZmlsZQ%3D%3D?line=2'>3</a>\u001b[0m c\u001b[39m=\u001b[39mpd\u001b[39m.\u001b[39mDataFrame({\u001b[39m\"\u001b[39m\u001b[39mc1\u001b[39m\u001b[39m\"\u001b[39m: [\u001b[39m1\u001b[39m,\u001b[39m1\u001b[39m,\u001b[39m2\u001b[39m,\u001b[39mNone\u001b[39;00m,\u001b[39m3\u001b[39m],\u001b[39m\"\u001b[39m\u001b[39mc2\u001b[39m\u001b[39m\"\u001b[39m: [\u001b[39m4\u001b[39m,\u001b[39m3\u001b[39m,\u001b[39m3\u001b[39m,\u001b[39m5\u001b[39m,\u001b[39m6\u001b[39m]})\n\u001b[1;32m----> <a href='vscode-notebook-cell:/e%3A/OneDrive%20-%20stu.cqupt.edu.cn/%23codes/data_project/work/notebook_writing.ipynb#X22sZmlsZQ%3D%3D?line=3'>4</a>\u001b[0m d\u001b[39m=\u001b[39mc[\u001b[39m'\u001b[39;49m\u001b[39mc1\u001b[39;49m\u001b[39m'\u001b[39;49m]\u001b[39m.\u001b[39;49mmap(\u001b[39mint\u001b[39;49m)\n\u001b[0;32m      <a href='vscode-notebook-cell:/e%3A/OneDrive%20-%20stu.cqupt.edu.cn/%23codes/data_project/work/notebook_writing.ipynb#X22sZmlsZQ%3D%3D?line=4'>5</a>\u001b[0m \u001b[39mprint\u001b[39m(d)\n",
      "File \u001b[1;32mc:\\Users\\ME\\anaconda3\\lib\\site-packages\\pandas\\core\\series.py:4237\u001b[0m, in \u001b[0;36mSeries.map\u001b[1;34m(self, arg, na_action)\u001b[0m\n\u001b[0;32m   4162\u001b[0m \u001b[39mdef\u001b[39;00m \u001b[39mmap\u001b[39m(\u001b[39mself\u001b[39m, arg, na_action\u001b[39m=\u001b[39m\u001b[39mNone\u001b[39;00m) \u001b[39m-\u001b[39m\u001b[39m>\u001b[39m Series:\n\u001b[0;32m   4163\u001b[0m     \u001b[39m\"\"\"\u001b[39;00m\n\u001b[0;32m   4164\u001b[0m \u001b[39m    Map values of Series according to an input mapping or function.\u001b[39;00m\n\u001b[0;32m   4165\u001b[0m \n\u001b[1;32m   (...)\u001b[0m\n\u001b[0;32m   4235\u001b[0m \u001b[39m    dtype: object\u001b[39;00m\n\u001b[0;32m   4236\u001b[0m \u001b[39m    \"\"\"\u001b[39;00m\n\u001b[1;32m-> 4237\u001b[0m     new_values \u001b[39m=\u001b[39m \u001b[39mself\u001b[39;49m\u001b[39m.\u001b[39;49m_map_values(arg, na_action\u001b[39m=\u001b[39;49mna_action)\n\u001b[0;32m   4238\u001b[0m     \u001b[39mreturn\u001b[39;00m \u001b[39mself\u001b[39m\u001b[39m.\u001b[39m_constructor(new_values, index\u001b[39m=\u001b[39m\u001b[39mself\u001b[39m\u001b[39m.\u001b[39mindex)\u001b[39m.\u001b[39m__finalize__(\n\u001b[0;32m   4239\u001b[0m         \u001b[39mself\u001b[39m, method\u001b[39m=\u001b[39m\u001b[39m\"\u001b[39m\u001b[39mmap\u001b[39m\u001b[39m\"\u001b[39m\n\u001b[0;32m   4240\u001b[0m     )\n",
      "File \u001b[1;32mc:\\Users\\ME\\anaconda3\\lib\\site-packages\\pandas\\core\\base.py:880\u001b[0m, in \u001b[0;36mIndexOpsMixin._map_values\u001b[1;34m(self, mapper, na_action)\u001b[0m\n\u001b[0;32m    877\u001b[0m         \u001b[39mraise\u001b[39;00m \u001b[39mValueError\u001b[39;00m(msg)\n\u001b[0;32m    879\u001b[0m \u001b[39m# mapper is a function\u001b[39;00m\n\u001b[1;32m--> 880\u001b[0m new_values \u001b[39m=\u001b[39m map_f(values, mapper)\n\u001b[0;32m    882\u001b[0m \u001b[39mreturn\u001b[39;00m new_values\n",
      "File \u001b[1;32mc:\\Users\\ME\\anaconda3\\lib\\site-packages\\pandas\\_libs\\lib.pyx:2870\u001b[0m, in \u001b[0;36mpandas._libs.lib.map_infer\u001b[1;34m()\u001b[0m\n",
      "\u001b[1;31mValueError\u001b[0m: cannot convert float NaN to integer"
     ]
    }
   ],
   "source": [
    "import pandas as pd\n",
    "a=pd.DataFrame({\"c1\": [pd.NaT],\"c2\": [pd.to_datetime(20211212)]})\n",
    "c=pd.DataFrame({\"c1\": [1,1,2,None,3],\"c2\": [4,3,3,5,6]})\n",
    "d=c['c1'].map(int)\n",
    "print(d)\n",
    "# print((pd.NaT-pd.to_datetime(20211212)).total_seconds())"
   ]
  },
  {
   "cell_type": "code",
   "execution_count": 31,
   "metadata": {},
   "outputs": [
    {
     "data": {
      "text/plain": [
       "['a', 'c', 'a', 'c', 'a']"
      ]
     },
     "execution_count": 31,
     "metadata": {},
     "output_type": "execute_result"
    }
   ],
   "source": [
    "import numpy as np\n",
    "a=['a','b','c']\n",
    "list(map(lambda x: a[np.random.randint(3)],range(5)))"
   ]
  },
  {
   "cell_type": "code",
   "execution_count": 8,
   "metadata": {},
   "outputs": [
    {
     "name": "stdout",
     "output_type": "stream",
     "text": [
      "        User_id  feature_basic_total_coupon\n",
      "0             4                           2\n",
      "1            35                           4\n",
      "2            36                           2\n",
      "3            64                           1\n",
      "4           110                           3\n",
      "...         ...                         ...\n",
      "539433  7360961                           1\n",
      "539434  7360966                           1\n",
      "539435  7360967                           4\n",
      "539436  7361024                           1\n",
      "539437  7361032                           2\n",
      "\n",
      "[539438 rows x 2 columns]\n",
      "        User_id  feature_basic_used\n",
      "0             4                   0\n",
      "1            35                   0\n",
      "2            36                   0\n",
      "3            64                   0\n",
      "4           110                   0\n",
      "...         ...                 ...\n",
      "539433  7360961                   0\n",
      "539434  7360966                   0\n",
      "539435  7360967                   0\n",
      "539436  7361024                   0\n",
      "539437  7361032                   0\n",
      "\n",
      "[539438 rows x 2 columns]\n",
      "0          5\n",
      "1          5\n",
      "2          5\n",
      "3          5\n",
      "4          5\n",
      "          ..\n",
      "1754879    2\n",
      "1754880    2\n",
      "1754881    2\n",
      "1754882    2\n",
      "1754883    2\n",
      "Name: feature_basic_not_use, Length: 1754884, dtype: int64\n",
      "0          0.0\n",
      "1          0.0\n",
      "2          0.0\n",
      "3          0.0\n",
      "4          0.0\n",
      "          ... \n",
      "1754879    0.6\n",
      "1754880    0.6\n",
      "1754881    0.6\n",
      "1754882    0.0\n",
      "1754883    0.0\n",
      "Name: feature_basic_rate_used, Length: 1754884, dtype: float64\n",
      "         feature_basic_rate_used  feature_basic_not_use  label  cnt  User_id  \\\n",
      "0                            0.0                      5      0    0  1439408   \n",
      "1                            0.0                      5      0    1  1439408   \n",
      "2                            0.0                      5      0    1  1439408   \n",
      "3                            0.0                      5      0    1  1439408   \n",
      "4                            0.0                      5      0    1  1439408   \n",
      "...                          ...                    ...    ...  ...      ...   \n",
      "1754879                      0.6                      2      0    0   212662   \n",
      "1754880                      0.6                      2      0    1   212662   \n",
      "1754881                      0.6                      2      0    0   212662   \n",
      "1754882                      0.0                      2      0    1   752472   \n",
      "1754883                      0.0                      2      0    1   752472   \n",
      "\n",
      "         Merchant_id  Coupon_id Discount_rate  Distance  Date_received  \\\n",
      "0               2632        NaN           NaN       0.0            NaN   \n",
      "1               4663    11002.0        150:20       1.0     20160528.0   \n",
      "2               2632     8591.0          20:1       0.0     20160217.0   \n",
      "3               2632     1078.0          20:1       0.0     20160319.0   \n",
      "4               2632     8591.0          20:1       0.0     20160613.0   \n",
      "...              ...        ...           ...       ...            ...   \n",
      "1754879         3532        NaN           NaN       1.0            NaN   \n",
      "1754880         3021     3739.0          30:1       6.0     20160508.0   \n",
      "1754881         2934        NaN           NaN       2.0            NaN   \n",
      "1754882         7113     1633.0         50:10       6.0     20160613.0   \n",
      "1754883         3621     2705.0          20:5       0.0     20160523.0   \n",
      "\n",
      "               Date date_received       date  feature_basic_total_coupon  \\\n",
      "0        20160217.0           NaT 2016-02-17                           5   \n",
      "1               NaN    2016-05-28        NaT                           5   \n",
      "2               NaN    2016-02-17        NaT                           5   \n",
      "3               NaN    2016-03-19        NaT                           5   \n",
      "4               NaN    2016-06-13        NaT                           5   \n",
      "...             ...           ...        ...                         ...   \n",
      "1754879  20160322.0           NaT 2016-03-22                           5   \n",
      "1754880  20160602.0    2016-05-08 2016-06-02                           5   \n",
      "1754881  20160321.0           NaT 2016-03-21                           5   \n",
      "1754882         NaN    2016-06-13        NaT                           2   \n",
      "1754883         NaN    2016-05-23        NaT                           2   \n",
      "\n",
      "         feature_basic_used  \n",
      "0                         0  \n",
      "1                         0  \n",
      "2                         0  \n",
      "3                         0  \n",
      "4                         0  \n",
      "...                     ...  \n",
      "1754879                   3  \n",
      "1754880                   3  \n",
      "1754881                   3  \n",
      "1754882                   0  \n",
      "1754883                   0  \n",
      "\n",
      "[1754884 rows x 15 columns]\n"
     ]
    }
   ],
   "source": [
    "import numpy as np\n",
    "import pandas as pd\n",
    "data = pd.read_csv(\"e:\\OneDrive - stu.cqupt.edu.cn\\#codes\\data_project\\#test\\data\\ccf_offline_stage1_train.csv\")\n",
    "\n",
    "data.insert(loc=0,column='cnt',value=[int(x) for x in data[\"Coupon_id\"].notnull()])\n",
    "name_prifix=\"feature_basic_\" #前缀\n",
    "\n",
    "data[\"date_received\"]=pd.to_datetime(\n",
    "    data[\"Date_received\"],format=\"%Y%m%d\")\n",
    "if 'Date' in data.columns.tolist():\n",
    "    data[\"date\"]=pd.to_datetime(\n",
    "        data[\"Date\"],format=\"%Y%m%d\")\n",
    "\n",
    "total_seconds = 15*24*3600.0\n",
    "data.insert(0,'label', list(map(lambda x,y: 1 if (x - y).total_seconds()<=total_seconds else 0, data['date'],data['date_received'])))\n",
    "\n",
    "# 1、领券数\n",
    "pivoted=pd.pivot_table(\n",
    "data,index='User_id', values='cnt', aggfunc=np.sum\n",
    "    ).reset_index().rename(columns={'cnt': name_prifix+\"total_coupon\"})\n",
    "print(pivoted)\n",
    "data=pd.merge(data,pivoted,on='User_id',how='left')\n",
    "\n",
    "# 2、领券\"并消费\"数\n",
    "pivoted=pd.pivot_table(\n",
    "data,index='User_id', values='label', aggfunc=np.sum\n",
    "    ).reset_index().rename(columns={'label': name_prifix+\"used\"})\n",
    "print(pivoted)\n",
    "data=pd.merge(data,pivoted,on='User_id',how='left')\n",
    "\n",
    "# 3、领券\"未消费\"数\n",
    "data.insert(0,name_prifix+'not_use',data[name_prifix+'total_coupon']-data[name_prifix+\"used\"])\n",
    "print(data[name_prifix+'not_use'])\n",
    "# 4、 领券\"并消费\"数 / 领券数、\n",
    "data.insert(0,name_prifix+'rate_used',data[name_prifix+\"used\"]/data[name_prifix+'total_coupon'])\n",
    "print(data[name_prifix+'rate_used'])\n",
    "\n",
    "print(data)\n"
   ]
  }
 ],
 "metadata": {
  "kernelspec": {
   "display_name": "Python 3.10.4 64-bit",
   "language": "python",
   "name": "python3"
  },
  "language_info": {
   "codemirror_mode": {
    "name": "ipython",
    "version": 3
   },
   "file_extension": ".py",
   "mimetype": "text/x-python",
   "name": "python",
   "nbconvert_exporter": "python",
   "pygments_lexer": "ipython3",
   "version": "3.10.4"
  },
  "orig_nbformat": 4,
  "vscode": {
   "interpreter": {
    "hash": "369f2c481f4da34e4445cda3fffd2e751bd1c4d706f27375911949ba6bb62e1c"
   }
  }
 },
 "nbformat": 4,
 "nbformat_minor": 2
}
